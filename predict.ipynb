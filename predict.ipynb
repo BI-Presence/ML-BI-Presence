{
 "cells": [
  {
   "cell_type": "code",
   "execution_count": 1,
   "metadata": {},
   "outputs": [],
   "source": [
    "# Import library\n",
    "import pickle\n",
    "import cv2 as cv\n",
    "import numpy as np\n",
    "from sklearn.preprocessing import LabelEncoder\n",
    "from mtcnn.mtcnn import MTCNN\n",
    "from keras_facenet import FaceNet"
   ]
  },
  {
   "cell_type": "code",
   "execution_count": 2,
   "metadata": {},
   "outputs": [],
   "source": [
    "# Load Saved Model\n",
    "with open('fix_model_facenet_160x160.pkl', 'rb') as f:\n",
    "    fix_model_facenet = pickle.load(f)"
   ]
  },
  {
   "cell_type": "code",
   "execution_count": 3,
   "metadata": {},
   "outputs": [],
   "source": [
    "# Initiate MTCNN Model\n",
    "img_detector = MTCNN()"
   ]
  },
  {
   "cell_type": "code",
   "execution_count": 4,
   "metadata": {},
   "outputs": [
    {
     "name": "stdout",
     "output_type": "stream",
     "text": [
      "1/1 [==============================] - 1s 1s/step\n",
      "1/1 [==============================] - 1s 510ms/step\n",
      "1/1 [==============================] - 0s 219ms/step\n",
      "1/1 [==============================] - 0s 123ms/step\n",
      "1/1 [==============================] - 0s 74ms/step\n",
      "1/1 [==============================] - 0s 58ms/step\n",
      "1/1 [==============================] - 0s 49ms/step\n",
      "1/1 [==============================] - 0s 41ms/step\n",
      "1/1 [==============================] - 0s 33ms/step\n",
      "1/1 [==============================] - 0s 33ms/step\n",
      "1/1 [==============================] - 0s 24ms/step\n",
      "1/1 [==============================] - 0s 25ms/step\n",
      "1/1 [==============================] - 0s 24ms/step\n",
      "1/1 [==============================] - 0s 33ms/step\n",
      "1/1 [==============================] - 0s 33ms/step\n",
      "32/32 [==============================] - 0s 7ms/step\n",
      "1/1 [==============================] - 0s 117ms/step\n"
     ]
    }
   ],
   "source": [
    "# Load the image\n",
    "t_img = cv.imread(\"data/abed/abed_2.jpg\")\n",
    "\n",
    "# Convert the image to RGB\n",
    "t_img = cv.cvtColor(t_img, cv.COLOR_BGR2RGB)\n",
    "\n",
    "# Extract the coordinates and size of the bounding box from the first detection result\n",
    "x,y,w,h = img_detector.detect_faces(t_img)[0]['box']"
   ]
  },
  {
   "cell_type": "code",
   "execution_count": 5,
   "metadata": {},
   "outputs": [],
   "source": [
    "# Instantiate the FaceNet model\n",
    "embedder = FaceNet()\n",
    "\n",
    "# Define a function to get the embedding of a face image\n",
    "def get_embedding(face_img):\n",
    "    face_img = face_img.astype('float32') # 3D(160x160x3)\n",
    "    face_img = np.expand_dims(face_img, axis=0) \n",
    "    # 4D (Nonex160x160x3)\n",
    "    yhat= embedder.embeddings(face_img)\n",
    "    return yhat[0] # 512D image (1x1x512)"
   ]
  },
  {
   "cell_type": "code",
   "execution_count": 6,
   "metadata": {},
   "outputs": [
    {
     "name": "stdout",
     "output_type": "stream",
     "text": [
      "1/1 [==============================] - 2s 2s/step\n"
     ]
    }
   ],
   "source": [
    "# Crop the detected face region from t_img using the bounding box coordinates\n",
    "t_img = t_img[y:y+h, x:x+w]\n",
    "\n",
    "# Resize the cropped face image to 160x160\n",
    "t_img = cv.resize(t_img, (160,160))\n",
    "\n",
    "# Get the embedding (feature vector) for the resized face image using the get_embedding function (Facenet)\n",
    "test_img = get_embedding(t_img)"
   ]
  },
  {
   "cell_type": "code",
   "execution_count": 7,
   "metadata": {},
   "outputs": [
    {
     "name": "stdout",
     "output_type": "stream",
     "text": [
      "Prediction result: abed\n"
     ]
    }
   ],
   "source": [
    "# Define the labels for the prediction classes\n",
    "LABEL = ['abed', 'gibran', 'iyal', 'vicky']\n",
    "\n",
    "# Convert the test image to a numpy array\n",
    "test_img = np.array(test_img)\n",
    "\n",
    "# Flatten the test image array to a 1D array\n",
    "test_img_flat = test_img.reshape(1, -1)\n",
    "\n",
    "# Use the pre-trained FaceNet model to predict the class of the test image\n",
    "prediction = fix_model_facenet.predict(test_img_flat)\n",
    "\n",
    "# Find the index of the class with the highest predicted probability\n",
    "pred_idx = np.argmax(prediction)\n",
    "# Map the predicted index to the corresponding label\n",
    "pred_label = LABEL[pred_idx]\n",
    "\n",
    "# Print the result of the prediction\n",
    "print(f\"Prediction result: {pred_label}\")"
   ]
  }
 ],
 "metadata": {
  "kernelspec": {
   "display_name": "Python 3",
   "language": "python",
   "name": "python3"
  },
  "language_info": {
   "codemirror_mode": {
    "name": "ipython",
    "version": 3
   },
   "file_extension": ".py",
   "mimetype": "text/x-python",
   "name": "python",
   "nbconvert_exporter": "python",
   "pygments_lexer": "ipython3",
   "version": "3.8.0"
  }
 },
 "nbformat": 4,
 "nbformat_minor": 2
}
