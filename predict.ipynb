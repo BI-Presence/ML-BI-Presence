{
 "cells": [
  {
   "cell_type": "code",
   "execution_count": 38,
   "metadata": {},
   "outputs": [],
   "source": [
    "# Import library\n",
    "import pickle\n",
    "import cv2 as cv\n",
    "import numpy as np\n",
    "from sklearn.preprocessing import LabelEncoder\n",
    "from mtcnn.mtcnn import MTCNN\n",
    "from keras_facenet import FaceNet"
   ]
  },
  {
   "cell_type": "code",
   "execution_count": 39,
   "metadata": {},
   "outputs": [],
   "source": [
    "# Load Saved Model\n",
    "with open('fix_model_facenet_160x160.pkl', 'rb') as f:\n",
    "    fix_model_facenet = pickle.load(f)"
   ]
  },
  {
   "cell_type": "code",
   "execution_count": 40,
   "metadata": {},
   "outputs": [],
   "source": [
    "# Initiate MTCNN Model\n",
    "img_detector = MTCNN()"
   ]
  },
  {
   "cell_type": "code",
   "execution_count": 41,
   "metadata": {},
   "outputs": [],
   "source": [
    "# Load the image\n",
    "t_img = cv.imread(\"data/abed/abed_2.jpg\")\n",
    "\n",
    "# Convert the image to RGB\n",
    "t_img = cv.cvtColor(t_img, cv.COLOR_BGR2RGB)\n",
    "\n",
    "# Resize the image to the new size while maintaining aspect ratio\n",
    "new_size = (480, 480)\n",
    "height, width, _ = t_img.shape\n",
    "scale = min(new_size[0] / width, new_size[1] / height)\n",
    "new_width = int(width * scale)\n",
    "new_height = int(height * scale)\n",
    "resized_img = cv.resize(t_img, (new_width, new_height))\n"
   ]
  },
  {
   "cell_type": "code",
   "execution_count": 42,
   "metadata": {},
   "outputs": [
    {
     "name": "stdout",
     "output_type": "stream",
     "text": [
      "1/1 [==============================] - 0s 81ms/step\n",
      "1/1 [==============================] - 0s 83ms/step\n",
      "1/1 [==============================] - 0s 17ms/step\n",
      "1/1 [==============================] - 0s 14ms/step\n",
      "1/1 [==============================] - 0s 20ms/step\n",
      "1/1 [==============================] - 0s 31ms/step\n",
      "1/1 [==============================] - 0s 17ms/step\n",
      "1/1 [==============================] - 0s 17ms/step\n",
      "1/1 [==============================] - 0s 17ms/step\n",
      "2/2 [==============================] - 0s 12ms/step\n",
      "1/1 [==============================] - 0s 129ms/step\n"
     ]
    }
   ],
   "source": [
    "# Detect faces in the image\n",
    "detections = img_detector.detect_faces(resized_img)\n",
    "if not detections:\n",
    "    raise Exception(\"No faces detected in the image.\")"
   ]
  },
  {
   "cell_type": "code",
   "execution_count": 43,
   "metadata": {},
   "outputs": [],
   "source": [
    "# Extract the coordinates and size of the bounding box from the first detection result\n",
    "x, y, w, h = detections[0]['box']"
   ]
  },
  {
   "cell_type": "code",
   "execution_count": 44,
   "metadata": {},
   "outputs": [],
   "source": [
    "# Instantiate the FaceNet model\n",
    "embedder = FaceNet()"
   ]
  },
  {
   "cell_type": "code",
   "execution_count": 45,
   "metadata": {},
   "outputs": [],
   "source": [
    "# Define a function to get the embedding of a face image\n",
    "def get_embedding(face_img):\n",
    "    face_img = face_img.astype('float32')  # 3D(160x160x3)\n",
    "    face_img = np.expand_dims(face_img, axis=0)  # 4D (Nonex160x160x3)\n",
    "    yhat = embedder.embeddings(face_img)\n",
    "    return yhat[0]  # 512D image (1x1x512)"
   ]
  },
  {
   "cell_type": "code",
   "execution_count": 46,
   "metadata": {},
   "outputs": [
    {
     "name": "stdout",
     "output_type": "stream",
     "text": [
      "1/1 [==============================] - 2s 2s/step\n"
     ]
    }
   ],
   "source": [
    "# Crop the detected face region from t_img using the bounding box coordinates\n",
    "face_img = resized_img[y:y+h, x:x+w]\n",
    "\n",
    "# Resize the cropped face image to 160x160\n",
    "face_img = cv.resize(face_img, (160, 160))\n",
    "\n",
    "# Get the embedding (feature vector) for the resized face image using the get_embedding function (Facenet)\n",
    "test_embedding = get_embedding(face_img)"
   ]
  },
  {
   "cell_type": "code",
   "execution_count": 47,
   "metadata": {},
   "outputs": [],
   "source": [
    "# Convert the embedding to the correct shape (2D array)\n",
    "test_embedding = np.expand_dims(test_embedding, axis=0)\n",
    "\n",
    "# Make Prediction\n",
    "predict = fix_model_facenet.predict(test_embedding)\n",
    "predict_proba = fix_model_facenet.predict_proba(test_embedding)"
   ]
  },
  {
   "cell_type": "code",
   "execution_count": 48,
   "metadata": {},
   "outputs": [
    {
     "name": "stdout",
     "output_type": "stream",
     "text": [
      "Predicted Label: abed\n",
      "Confidence Score: 0.88\n"
     ]
    }
   ],
   "source": [
    "# Decode the prediction\n",
    "encoder = LabelEncoder()\n",
    "LABEL = ['abed', 'budi', 'gibran', 'iyal', 'vicky']\n",
    "encoder.fit(LABEL)\n",
    "\n",
    "# Output the predicted label and confidence score\n",
    "predicted_label = encoder.inverse_transform(predict)[0]\n",
    "confidence_score = predict_proba[0][predict[0]]\n",
    "\n",
    "# Check confidence score and determine if the prediction should be considered unknown\n",
    "if confidence_score < 0.5:\n",
    "    predicted_label = \"unknown\"\n",
    "\n",
    "# Print predicted label and confidence score\n",
    "print(f\"Predicted Label: {predicted_label}\")\n",
    "print(f\"Confidence Score: {confidence_score:.2f}\")"
   ]
  },
  {
   "cell_type": "code",
   "execution_count": 49,
   "metadata": {},
   "outputs": [
    {
     "name": "stdout",
     "output_type": "stream",
     "text": [
      "Probabilities for each class:\n",
      "abed: 0.88\n",
      "budi: 0.01\n",
      "gibran: 0.05\n",
      "iyal: 0.04\n",
      "vicky: 0.01\n"
     ]
    }
   ],
   "source": [
    "# List all probabilities\n",
    "print(\"Probabilities for each class:\")\n",
    "for label, proba in zip(LABEL, predict_proba[0]):\n",
    "    print(f\"{label}: {proba:.2f}\")"
   ]
  }
 ],
 "metadata": {
  "kernelspec": {
   "display_name": "Python 3",
   "language": "python",
   "name": "python3"
  },
  "language_info": {
   "codemirror_mode": {
    "name": "ipython",
    "version": 3
   },
   "file_extension": ".py",
   "mimetype": "text/x-python",
   "name": "python",
   "nbconvert_exporter": "python",
   "pygments_lexer": "ipython3",
   "version": "3.8.0"
  }
 },
 "nbformat": 4,
 "nbformat_minor": 2
}
